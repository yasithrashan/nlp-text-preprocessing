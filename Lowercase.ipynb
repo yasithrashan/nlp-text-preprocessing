{
  "nbformat": 4,
  "nbformat_minor": 0,
  "metadata": {
    "colab": {
      "provenance": []
    },
    "kernelspec": {
      "name": "python3",
      "display_name": "Python 3"
    },
    "language_info": {
      "name": "python"
    }
  },
  "cells": [
    {
      "cell_type": "code",
      "execution_count": 1,
      "metadata": {
        "id": "eR_s4-rkPESG"
      },
      "outputs": [],
      "source": [
        "sentence=\"Her cats name is Luna\""
      ]
    },
    {
      "cell_type": "code",
      "source": [
        "lower_sentence=sentence.lower()"
      ],
      "metadata": {
        "id": "Y9gRow1GPQpe"
      },
      "execution_count": 2,
      "outputs": []
    },
    {
      "cell_type": "code",
      "source": [
        "print(lower_sentence)"
      ],
      "metadata": {
        "colab": {
          "base_uri": "https://localhost:8080/"
        },
        "id": "azq7UWmsPUrm",
        "outputId": "9f413c72-41c2-45b7-d90f-af70ef326336"
      },
      "execution_count": 3,
      "outputs": [
        {
          "output_type": "stream",
          "name": "stdout",
          "text": [
            "her cats name is luna\n"
          ]
        }
      ]
    },
    {
      "cell_type": "code",
      "source": [
        "sentence_list=['Could you pass me the TV remote',\n",
        "                     'Its imposiible to find the hotel',\n",
        "                     'Want to go for Dinner']"
      ],
      "metadata": {
        "id": "cAZqwLWbPi0j"
      },
      "execution_count": 5,
      "outputs": []
    },
    {
      "cell_type": "code",
      "source": [
        "lower_sentence_list=[x.lower() for x in sentence_list]\n",
        "print(lower_sentence_list)"
      ],
      "metadata": {
        "colab": {
          "base_uri": "https://localhost:8080/"
        },
        "id": "RB5j-N6zP8Qx",
        "outputId": "3c356c92-54fe-4d87-8ed8-a5e43095fac5"
      },
      "execution_count": 6,
      "outputs": [
        {
          "output_type": "stream",
          "name": "stdout",
          "text": [
            "['could you pass me the tv remote', 'its imposiible to find the hotel', 'want to go for dinner']\n"
          ]
        }
      ]
    }
  ]
}