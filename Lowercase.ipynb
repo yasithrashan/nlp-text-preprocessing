{
  "cells": [
    {
      "cell_type": "code",
      "execution_count": null,
      "metadata": {
        "id": "eR_s4-rkPESG"
      },
      "outputs": [],
      "source": [
        "sentence=\"Her cats name is Luna\""
      ]
    },
    {
      "cell_type": "code",
      "execution_count": null,
      "metadata": {
        "id": "Y9gRow1GPQpe"
      },
      "outputs": [],
      "source": [
        "lower_sentence=sentence.lower()"
      ]
    },
    {
      "cell_type": "code",
      "execution_count": null,
      "metadata": {
        "colab": {
          "base_uri": "https://localhost:8080/"
        },
        "id": "azq7UWmsPUrm",
        "outputId": "9f413c72-41c2-45b7-d90f-af70ef326336"
      },
      "outputs": [],
      "source": [
        "print(lower_sentence)"
      ]
    },
    {
      "cell_type": "code",
      "execution_count": null,
      "metadata": {
        "id": "cAZqwLWbPi0j"
      },
      "outputs": [],
      "source": [
        "sentence_list=['Could you pass me the TV remote',\n",
        "                     'Its imposiible to find the hotel',\n",
        "                     'Want to go for Dinner']"
      ]
    },
    {
      "cell_type": "code",
      "execution_count": null,
      "metadata": {
        "colab": {
          "base_uri": "https://localhost:8080/"
        },
        "id": "RB5j-N6zP8Qx",
        "outputId": "3c356c92-54fe-4d87-8ed8-a5e43095fac5"
      },
      "outputs": [],
      "source": [
        "lower_sentence_list=[x.lower() for x in sentence_list]\n",
        "print(lower_sentence_list)"
      ]
    }
  ],
  "metadata": {
    "colab": {
      "provenance": []
    },
    "kernelspec": {
      "display_name": "Python 3",
      "name": "python3"
    },
    "language_info": {
      "name": "python"
    }
  },
  "nbformat": 4,
  "nbformat_minor": 0
}
