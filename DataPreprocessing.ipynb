{
  "cells": [
    {
      "cell_type": "code",
      "execution_count": null,
      "metadata": {
        "id": "yZehMf9EJ27F"
      },
      "outputs": [],
      "source": [
        "import nltk\n",
        "from nltk.tokenize import word_tokenize\n",
        "from nltk.stem import PorterStemmer\n",
        "from nltk.corpus import stopwords\n",
        "import re\n",
        "import pandas as pd"
      ]
    },
    {
      "cell_type": "code",
      "execution_count": null,
      "metadata": {
        "colab": {
          "base_uri": "https://localhost:8080/"
        },
        "id": "xUCWFy6yKn4D",
        "outputId": "a3b7abd1-2b2b-424c-931a-c48c8d55e38d"
      },
      "outputs": [],
      "source": [
        "data=pd.read_csv(\"/content/tripadvisor_hotel_reviews.csv\")\n",
        "data.info()"
      ]
    },
    {
      "cell_type": "code",
      "execution_count": null,
      "metadata": {
        "colab": {
          "base_uri": "https://localhost:8080/",
          "height": 206
        },
        "id": "OcV1x272MNic",
        "outputId": "f62acb3f-3c58-4858-bd81-c366e6838591"
      },
      "outputs": [],
      "source": [
        "data.head()"
      ]
    },
    {
      "cell_type": "code",
      "execution_count": null,
      "metadata": {
        "colab": {
          "base_uri": "https://localhost:8080/"
        },
        "id": "fkfFmvzvU50h",
        "outputId": "f4a8a43a-e69e-4d60-9010-4afa1a328614"
      },
      "outputs": [],
      "source": [
        "nltk.download('stopwords')"
      ]
    },
    {
      "cell_type": "code",
      "execution_count": null,
      "metadata": {
        "id": "B1mEw-QtUNLy"
      },
      "outputs": [],
      "source": [
        "en_stowords= stopwords.words('english')"
      ]
    },
    {
      "cell_type": "code",
      "execution_count": null,
      "metadata": {
        "id": "PAGFmPAjUoLB"
      },
      "outputs": [],
      "source": [
        "en_stowords.remove('not')"
      ]
    },
    {
      "cell_type": "code",
      "execution_count": null,
      "metadata": {
        "id": "9sK2TKmBVAaa"
      },
      "outputs": [],
      "source": [
        "data['review_no_stopwords'] = data['Review'].apply(lambda x: ' '.join([word for word in x.split() if word not in (en_stowords)]))"
      ]
    },
    {
      "cell_type": "code",
      "execution_count": null,
      "metadata": {
        "colab": {
          "base_uri": "https://localhost:8080/",
          "height": 89
        },
        "id": "dcjXy7iyVWgO",
        "outputId": "64b54f1c-c56a-412f-adf0-5eca312345a2"
      },
      "outputs": [],
      "source": [
        "data['review_no_stopwords'][0]"
      ]
    },
    {
      "cell_type": "code",
      "execution_count": null,
      "metadata": {
        "id": "6yYjZnDsVfau"
      },
      "outputs": [],
      "source": [
        "data['review_no_stopwords']=data.apply(lambda x: re.sub(r'[*]',' ',x['review_no_stopwords']),axis=1)"
      ]
    },
    {
      "cell_type": "code",
      "execution_count": null,
      "metadata": {
        "colab": {
          "base_uri": "https://localhost:8080/",
          "height": 206
        },
        "id": "Fs0WWcXDWPD9",
        "outputId": "2e4c6de7-53b9-4568-9116-faafb11589b0"
      },
      "outputs": [],
      "source": [
        "data.head()"
      ]
    },
    {
      "cell_type": "code",
      "execution_count": null,
      "metadata": {
        "id": "hjHD0ey3WRZB"
      },
      "outputs": [],
      "source": [
        "data['review_no_stopwords_no_punct']=data.apply(lambda x: re.sub(r\"([^\\W\\S])\",\"\", x['review_no_stopwords']),axis=1)"
      ]
    },
    {
      "cell_type": "code",
      "execution_count": null,
      "metadata": {
        "colab": {
          "base_uri": "https://localhost:8080/"
        },
        "id": "yV5d7emIX9-8",
        "outputId": "8c31bcd5-fb8d-4047-cefd-48d065c7441e"
      },
      "outputs": [],
      "source": [
        "nltk.download('punkt_tab')"
      ]
    },
    {
      "cell_type": "code",
      "execution_count": null,
      "metadata": {
        "id": "k2DgbqMhW9by"
      },
      "outputs": [],
      "source": [
        "data['tokenized']=data.apply(lambda x: word_tokenize(x['review_no_stopwords_no_punct']),axis=1)"
      ]
    },
    {
      "cell_type": "code",
      "execution_count": null,
      "metadata": {
        "colab": {
          "base_uri": "https://localhost:8080/"
        },
        "id": "EbUG2FuiXqml",
        "outputId": "9f8c8e1a-6c83-4f70-f63d-a295d115fb7a"
      },
      "outputs": [],
      "source": [
        "data['tokenized'][0]"
      ]
    },
    {
      "cell_type": "code",
      "execution_count": null,
      "metadata": {
        "id": "zVMB8ZOHYDHP"
      },
      "outputs": [],
      "source": [
        "ps=PorterStemmer()"
      ]
    },
    {
      "cell_type": "code",
      "execution_count": null,
      "metadata": {
        "id": "td5iVc9zYMkr"
      },
      "outputs": [],
      "source": [
        "data['stemmed']=data['tokenized'].apply(lambda tokens: [ps.stem(token) for token in tokens])"
      ]
    },
    {
      "cell_type": "code",
      "execution_count": null,
      "metadata": {
        "colab": {
          "base_uri": "https://localhost:8080/",
          "height": 293
        },
        "id": "hWd4rP0ZYi4n",
        "outputId": "8894b61b-f4e5-4663-ce4e-12e2777a3d22"
      },
      "outputs": [],
      "source": [
        "data.head()"
      ]
    },
    {
      "cell_type": "code",
      "execution_count": null,
      "metadata": {
        "id": "8YtTCzkxZGad"
      },
      "outputs": [],
      "source": []
    },
    {
      "cell_type": "code",
      "execution_count": null,
      "metadata": {
        "id": "WsOZqijqYkdx"
      },
      "outputs": [],
      "source": [
        "lemmatizeer=nltk.WordNetLemmatizer()"
      ]
    },
    {
      "cell_type": "code",
      "execution_count": null,
      "metadata": {
        "colab": {
          "base_uri": "https://localhost:8080/"
        },
        "id": "RwmsxmH8ZL2Y",
        "outputId": "7caa2e6d-e3de-4a10-8b73-8d6a117b5cc7"
      },
      "outputs": [],
      "source": [
        "nltk.download('wordnet')"
      ]
    },
    {
      "cell_type": "code",
      "execution_count": null,
      "metadata": {
        "id": "8jVk_74CYt_t"
      },
      "outputs": [],
      "source": [
        "data['lemmatized']=data['tokenized'].apply(lambda tokens: [lemmatizeer.lemmatize(token) for token in tokens])"
      ]
    },
    {
      "cell_type": "code",
      "execution_count": null,
      "metadata": {
        "colab": {
          "base_uri": "https://localhost:8080/"
        },
        "id": "OUc-Hz_IZDoI",
        "outputId": "e311604a-2f64-483f-b5f9-26a95552b8da"
      },
      "outputs": [],
      "source": [
        "data['lemmatized'][0]"
      ]
    },
    {
      "cell_type": "code",
      "execution_count": null,
      "metadata": {
        "id": "uHQCDXOuZVTx"
      },
      "outputs": [],
      "source": [
        "token_cleans=sum(data['lemmatized'],[])"
      ]
    },
    {
      "cell_type": "code",
      "execution_count": null,
      "metadata": {
        "colab": {
          "base_uri": "https://localhost:8080/"
        },
        "id": "6T4MelNLZmBm",
        "outputId": "4b2b9b81-85df-4923-9942-46039bd2ffd9"
      },
      "outputs": [],
      "source": [
        "unigrams=(pd.Series(nltk.ngrams(token_cleans,1)).value_counts())\n",
        "print(unigrams)"
      ]
    },
    {
      "cell_type": "code",
      "execution_count": null,
      "metadata": {
        "colab": {
          "base_uri": "https://localhost:8080/"
        },
        "id": "nX2EgmgSZ0tb",
        "outputId": "ae3be9a1-6338-4d57-c3ca-48c54beba995"
      },
      "outputs": [],
      "source": [
        "bigrams=(pd.Series(nltk.ngrams(token_cleans,2)).value_counts())\n",
        "print(bigrams)"
      ]
    }
  ],
  "metadata": {
    "colab": {
      "provenance": []
    },
    "kernelspec": {
      "display_name": "Python 3",
      "name": "python3"
    },
    "language_info": {
      "name": "python"
    }
  },
  "nbformat": 4,
  "nbformat_minor": 0
}
