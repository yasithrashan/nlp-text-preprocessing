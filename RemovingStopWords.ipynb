{
  "cells": [
    {
      "cell_type": "code",
      "execution_count": null,
      "metadata": {
        "colab": {
          "base_uri": "https://localhost:8080/"
        },
        "id": "_XUFjUYsQoAA",
        "outputId": "26345f6a-a281-400d-921d-b90134e53166"
      },
      "outputs": [],
      "source": [
        "import nltk\n",
        "nltk.download('stopwords')\n",
        "from nltk.corpus import stopwords"
      ]
    },
    {
      "cell_type": "code",
      "execution_count": null,
      "metadata": {
        "id": "iEDX94WuRGuV"
      },
      "outputs": [],
      "source": [
        "en_stopwords = stopwords.words('english')"
      ]
    },
    {
      "cell_type": "code",
      "execution_count": null,
      "metadata": {
        "colab": {
          "base_uri": "https://localhost:8080/"
        },
        "id": "_sBmjQjgRUZZ",
        "outputId": "d8efad68-8cd1-41a2-9d8f-e1d1f61ca2a9"
      },
      "outputs": [],
      "source": [
        "print(en_stopwords)"
      ]
    },
    {
      "cell_type": "code",
      "execution_count": null,
      "metadata": {
        "id": "gTPjXHiGTwEy"
      },
      "outputs": [],
      "source": [
        "sentence=\"it was too far to go to the shop and he did not want her to talk\""
      ]
    },
    {
      "cell_type": "code",
      "execution_count": null,
      "metadata": {
        "id": "YhpNBKtiT9iB"
      },
      "outputs": [],
      "source": [
        "sentence_no_stop_words= ' '.join([word for word in sentence.split() if word not in en_stopwords])"
      ]
    },
    {
      "cell_type": "code",
      "execution_count": null,
      "metadata": {
        "colab": {
          "base_uri": "https://localhost:8080/"
        },
        "id": "whgjS6jWUSuc",
        "outputId": "6499e82e-e7f2-489b-e2d1-8be89f1f6337"
      },
      "outputs": [],
      "source": [
        "print(sentence_no_stop_words)"
      ]
    }
  ],
  "metadata": {
    "colab": {
      "provenance": []
    },
    "kernelspec": {
      "display_name": "Python 3",
      "name": "python3"
    },
    "language_info": {
      "name": "python"
    }
  },
  "nbformat": 4,
  "nbformat_minor": 0
}
