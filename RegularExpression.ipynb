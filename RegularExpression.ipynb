{
  "nbformat": 4,
  "nbformat_minor": 0,
  "metadata": {
    "colab": {
      "provenance": []
    },
    "kernelspec": {
      "name": "python3",
      "display_name": "Python 3"
    },
    "language_info": {
      "name": "python"
    }
  },
  "cells": [
    {
      "cell_type": "code",
      "source": [
        "import re"
      ],
      "metadata": {
        "id": "pWwsZhXwX7Dh"
      },
      "execution_count": 1,
      "outputs": []
    },
    {
      "cell_type": "code",
      "source": [
        "my_folder=r\"C:\\Desktop\\notes\"\n",
        "print(my_folder)"
      ],
      "metadata": {
        "colab": {
          "base_uri": "https://localhost:8080/"
        },
        "id": "gLUCHMEdX8Cy",
        "outputId": "59678c9a-e2da-4af6-fc12-10a2c1a2d0e1"
      },
      "execution_count": 4,
      "outputs": [
        {
          "output_type": "stream",
          "name": "stdout",
          "text": [
            "C:\\Desktop\\notes\n"
          ]
        }
      ]
    },
    {
      "cell_type": "code",
      "source": [
        "result_search=re.search(\"pattern\",r\"string to contain the pattern\")"
      ],
      "metadata": {
        "id": "_tc-qwStaziJ"
      },
      "execution_count": 9,
      "outputs": []
    },
    {
      "cell_type": "code",
      "source": [
        "print(result_search)"
      ],
      "metadata": {
        "colab": {
          "base_uri": "https://localhost:8080/"
        },
        "id": "5lihGJOgbY4s",
        "outputId": "91bc25a4-967d-49dc-980c-b823d96687c4"
      },
      "execution_count": 11,
      "outputs": [
        {
          "output_type": "stream",
          "name": "stdout",
          "text": [
            "<re.Match object; span=(22, 29), match='pattern'>\n"
          ]
        }
      ]
    },
    {
      "cell_type": "code",
      "source": [
        "string=r\"sara was able to find help me find the items i needed quickly\""
      ],
      "metadata": {
        "id": "xtksR-RkcNay"
      },
      "execution_count": 12,
      "outputs": []
    },
    {
      "cell_type": "code",
      "source": [
        "new_string= re.sub(\"sara\",\"sarah\",string)\n",
        "print(new_string)"
      ],
      "metadata": {
        "colab": {
          "base_uri": "https://localhost:8080/"
        },
        "id": "-rec_DWgcZAW",
        "outputId": "d704ca4d-c545-482f-8ba1-4908a9903b3a"
      },
      "execution_count": 13,
      "outputs": [
        {
          "output_type": "stream",
          "name": "stdout",
          "text": [
            "sarah was able to find help me find the items i needed quickly\n"
          ]
        }
      ]
    },
    {
      "cell_type": "code",
      "source": [
        "sarahs_reviews=[]"
      ],
      "metadata": {
        "id": "aAyccQnLcscn"
      },
      "execution_count": 14,
      "outputs": []
    },
    {
      "cell_type": "code",
      "source": [
        "pattern_to_find=r\"sarah?\""
      ],
      "metadata": {
        "id": "7f9KtB-ndTji"
      },
      "execution_count": 15,
      "outputs": []
    },
    {
      "cell_type": "code",
      "metadata": {
        "id": "ae954184"
      },
      "source": [
        "customer_reviews = [\n",
        "    \"sarah was very helpful and friendly\",\n",
        "    \"I had a great experience with the service\",\n",
        "    \"The person who helped me was named sara, and she was excellent\",\n",
        "    \"This is a generic review with no names\",\n",
        "    \"I highly recommend working with SARAH\",\n",
        "    \"I needed help and they provided it quickly.\",\n",
        "    \"I wanted to find the best option and they guided me.\"\n",
        "]"
      ],
      "execution_count": 42,
      "outputs": []
    },
    {
      "cell_type": "code",
      "source": [
        "for string in customer_reviews:\n",
        "  if(re.search(pattern_to_find, string)):\n",
        "    sarahs_reviews.append(string)\n"
      ],
      "metadata": {
        "id": "kOe2ZpCieJ4A"
      },
      "execution_count": 28,
      "outputs": []
    },
    {
      "cell_type": "code",
      "source": [
        "print(sarahs_reviews)"
      ],
      "metadata": {
        "colab": {
          "base_uri": "https://localhost:8080/"
        },
        "id": "K11RUroSeff7",
        "outputId": "8ea54655-f069-4a68-e4fb-2c9055d874cc"
      },
      "execution_count": 29,
      "outputs": [
        {
          "output_type": "stream",
          "name": "stdout",
          "text": [
            "['sarah was very helpful and friendly.', 'The person who helped me was named sara, and she was excellent.', 'sarah was very helpful and friendly']\n"
          ]
        }
      ]
    },
    {
      "cell_type": "code",
      "source": [
        "a_reviews=[]\n",
        "pattern_to_find=r\"^I\"\n",
        "\n",
        "for string in customer_reviews:\n",
        "  if(re.search(pattern_to_find,string)):\n",
        "    a_reviews.append(string)"
      ],
      "metadata": {
        "id": "t7wkpxHneggQ"
      },
      "execution_count": 30,
      "outputs": []
    },
    {
      "cell_type": "code",
      "source": [
        "print(a_reviews)"
      ],
      "metadata": {
        "colab": {
          "base_uri": "https://localhost:8080/"
        },
        "id": "PtpqykxTfD5h",
        "outputId": "0e9a096a-8a18-4643-aff2-f3deadc52ff5"
      },
      "execution_count": 31,
      "outputs": [
        {
          "output_type": "stream",
          "name": "stdout",
          "text": [
            "['I had a great experience with the service', 'I highly recommend working with SARAH']\n"
          ]
        }
      ]
    },
    {
      "cell_type": "code",
      "source": [
        "y_reviews=[]\n",
        "pattern_to_find=r\"y$\"\n",
        "\n",
        "for string in customer_reviews:\n",
        "  if(re.search(pattern_to_find,string)):\n",
        "    y_reviews.append(string)"
      ],
      "metadata": {
        "id": "4kyU3pcQfTOW"
      },
      "execution_count": 38,
      "outputs": []
    },
    {
      "cell_type": "code",
      "source": [
        "print(y_reviews)"
      ],
      "metadata": {
        "colab": {
          "base_uri": "https://localhost:8080/"
        },
        "id": "a7Yg7xVJftr8",
        "outputId": "609bcf74-470a-402f-b461-8c056ff723f9"
      },
      "execution_count": 39,
      "outputs": [
        {
          "output_type": "stream",
          "name": "stdout",
          "text": [
            "['sarah was very helpful and friendly']\n"
          ]
        }
      ]
    },
    {
      "cell_type": "code",
      "source": [
        "needwant_reviews=[]\n",
        "pattern_to_find=r\"(need|want)ed\"\n",
        "\n",
        "for string in customer_reviews:\n",
        "  if(re.search(pattern_to_find,string)):\n",
        "    needwant_reviews.append(string)\n",
        "\n",
        "print(needwant_reviews)"
      ],
      "metadata": {
        "colab": {
          "base_uri": "https://localhost:8080/"
        },
        "id": "TASYfCUWf5GO",
        "outputId": "4943c339-3903-4770-dba1-00d9e4ec0250"
      },
      "execution_count": 43,
      "outputs": [
        {
          "output_type": "stream",
          "name": "stdout",
          "text": [
            "['I needed help and they provided it quickly.', 'I wanted to find the best option and they guided me.']\n"
          ]
        }
      ]
    },
    {
      "cell_type": "code",
      "source": [
        "no_punct_reviews=[]\n",
        "pattern_to_find=r\"[^\\W\\S]\""
      ],
      "metadata": {
        "id": "TYiXVjLNg1l5"
      },
      "execution_count": 45,
      "outputs": []
    },
    {
      "cell_type": "code",
      "source": [
        "for string in customer_reviews:\n",
        "  no_punct_string=re.sub(pattern_to_find,\"\",string)\n",
        "  no_punct_reviews.append(no_punct_string)\n",
        "\n",
        "print(no_punct_reviews)"
      ],
      "metadata": {
        "colab": {
          "base_uri": "https://localhost:8080/"
        },
        "id": "bSdy7jnyiHfy",
        "outputId": "f6cca32b-30d4-42bb-cec9-8fc05ac52b3f"
      },
      "execution_count": 46,
      "outputs": [
        {
          "output_type": "stream",
          "name": "stdout",
          "text": [
            "['sarah was very helpful and friendly', 'I had a great experience with the service', 'The person who helped me was named sara, and she was excellent', 'This is a generic review with no names', 'I highly recommend working with SARAH', 'I needed help and they provided it quickly.', 'I wanted to find the best option and they guided me.']\n"
          ]
        }
      ]
    },
    {
      "cell_type": "code",
      "source": [],
      "metadata": {
        "id": "8OjVjje4ivEu"
      },
      "execution_count": null,
      "outputs": []
    }
  ]
}