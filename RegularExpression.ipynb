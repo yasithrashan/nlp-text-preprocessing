{
  "cells": [
    {
      "cell_type": "code",
      "execution_count": null,
      "metadata": {
        "id": "pWwsZhXwX7Dh"
      },
      "outputs": [],
      "source": [
        "import re"
      ]
    },
    {
      "cell_type": "code",
      "execution_count": null,
      "metadata": {
        "colab": {
          "base_uri": "https://localhost:8080/"
        },
        "id": "gLUCHMEdX8Cy",
        "outputId": "59678c9a-e2da-4af6-fc12-10a2c1a2d0e1"
      },
      "outputs": [],
      "source": [
        "my_folder=r\"C:\\Desktop\\notes\"\n",
        "print(my_folder)"
      ]
    },
    {
      "cell_type": "code",
      "execution_count": null,
      "metadata": {
        "id": "_tc-qwStaziJ"
      },
      "outputs": [],
      "source": [
        "result_search=re.search(\"pattern\",r\"string to contain the pattern\")"
      ]
    },
    {
      "cell_type": "code",
      "execution_count": null,
      "metadata": {
        "colab": {
          "base_uri": "https://localhost:8080/"
        },
        "id": "5lihGJOgbY4s",
        "outputId": "91bc25a4-967d-49dc-980c-b823d96687c4"
      },
      "outputs": [],
      "source": [
        "print(result_search)"
      ]
    },
    {
      "cell_type": "code",
      "execution_count": null,
      "metadata": {
        "id": "xtksR-RkcNay"
      },
      "outputs": [],
      "source": [
        "string=r\"sara was able to find help me find the items i needed quickly\""
      ]
    },
    {
      "cell_type": "code",
      "execution_count": null,
      "metadata": {
        "colab": {
          "base_uri": "https://localhost:8080/"
        },
        "id": "-rec_DWgcZAW",
        "outputId": "d704ca4d-c545-482f-8ba1-4908a9903b3a"
      },
      "outputs": [],
      "source": [
        "new_string= re.sub(\"sara\",\"sarah\",string)\n",
        "print(new_string)"
      ]
    },
    {
      "cell_type": "code",
      "execution_count": null,
      "metadata": {
        "id": "aAyccQnLcscn"
      },
      "outputs": [],
      "source": [
        "sarahs_reviews=[]"
      ]
    },
    {
      "cell_type": "code",
      "execution_count": null,
      "metadata": {
        "id": "7f9KtB-ndTji"
      },
      "outputs": [],
      "source": [
        "pattern_to_find=r\"sarah?\""
      ]
    },
    {
      "cell_type": "code",
      "execution_count": null,
      "metadata": {
        "id": "ae954184"
      },
      "outputs": [],
      "source": [
        "customer_reviews = [\n",
        "    \"sarah was very helpful and friendly\",\n",
        "    \"I had a great experience with the service\",\n",
        "    \"The person who helped me was named sara, and she was excellent\",\n",
        "    \"This is a generic review with no names\",\n",
        "    \"I highly recommend working with SARAH\",\n",
        "    \"I needed help and they provided it quickly.\",\n",
        "    \"I wanted to find the best option and they guided me.\"\n",
        "]"
      ]
    },
    {
      "cell_type": "code",
      "execution_count": null,
      "metadata": {
        "id": "kOe2ZpCieJ4A"
      },
      "outputs": [],
      "source": [
        "for string in customer_reviews:\n",
        "  if(re.search(pattern_to_find, string)):\n",
        "    sarahs_reviews.append(string)\n"
      ]
    },
    {
      "cell_type": "code",
      "execution_count": null,
      "metadata": {
        "colab": {
          "base_uri": "https://localhost:8080/"
        },
        "id": "K11RUroSeff7",
        "outputId": "8ea54655-f069-4a68-e4fb-2c9055d874cc"
      },
      "outputs": [],
      "source": [
        "print(sarahs_reviews)"
      ]
    },
    {
      "cell_type": "code",
      "execution_count": null,
      "metadata": {
        "id": "t7wkpxHneggQ"
      },
      "outputs": [],
      "source": [
        "a_reviews=[]\n",
        "pattern_to_find=r\"^I\"\n",
        "\n",
        "for string in customer_reviews:\n",
        "  if(re.search(pattern_to_find,string)):\n",
        "    a_reviews.append(string)"
      ]
    },
    {
      "cell_type": "code",
      "execution_count": null,
      "metadata": {
        "colab": {
          "base_uri": "https://localhost:8080/"
        },
        "id": "PtpqykxTfD5h",
        "outputId": "0e9a096a-8a18-4643-aff2-f3deadc52ff5"
      },
      "outputs": [],
      "source": [
        "print(a_reviews)"
      ]
    },
    {
      "cell_type": "code",
      "execution_count": null,
      "metadata": {
        "id": "4kyU3pcQfTOW"
      },
      "outputs": [],
      "source": [
        "y_reviews=[]\n",
        "pattern_to_find=r\"y$\"\n",
        "\n",
        "for string in customer_reviews:\n",
        "  if(re.search(pattern_to_find,string)):\n",
        "    y_reviews.append(string)"
      ]
    },
    {
      "cell_type": "code",
      "execution_count": null,
      "metadata": {
        "colab": {
          "base_uri": "https://localhost:8080/"
        },
        "id": "a7Yg7xVJftr8",
        "outputId": "609bcf74-470a-402f-b461-8c056ff723f9"
      },
      "outputs": [],
      "source": [
        "print(y_reviews)"
      ]
    },
    {
      "cell_type": "code",
      "execution_count": null,
      "metadata": {
        "colab": {
          "base_uri": "https://localhost:8080/"
        },
        "id": "TASYfCUWf5GO",
        "outputId": "4943c339-3903-4770-dba1-00d9e4ec0250"
      },
      "outputs": [],
      "source": [
        "needwant_reviews=[]\n",
        "pattern_to_find=r\"(need|want)ed\"\n",
        "\n",
        "for string in customer_reviews:\n",
        "  if(re.search(pattern_to_find,string)):\n",
        "    needwant_reviews.append(string)\n",
        "\n",
        "print(needwant_reviews)"
      ]
    },
    {
      "cell_type": "code",
      "execution_count": null,
      "metadata": {
        "id": "TYiXVjLNg1l5"
      },
      "outputs": [],
      "source": [
        "no_punct_reviews=[]\n",
        "pattern_to_find=r\"[^\\W\\S]\""
      ]
    },
    {
      "cell_type": "code",
      "execution_count": null,
      "metadata": {
        "colab": {
          "base_uri": "https://localhost:8080/"
        },
        "id": "bSdy7jnyiHfy",
        "outputId": "f6cca32b-30d4-42bb-cec9-8fc05ac52b3f"
      },
      "outputs": [],
      "source": [
        "for string in customer_reviews:\n",
        "  no_punct_string=re.sub(pattern_to_find,\"\",string)\n",
        "  no_punct_reviews.append(no_punct_string)\n",
        "\n",
        "print(no_punct_reviews)"
      ]
    }
  ],
  "metadata": {
    "colab": {
      "provenance": []
    },
    "kernelspec": {
      "display_name": "Python 3",
      "name": "python3"
    },
    "language_info": {
      "name": "python"
    }
  },
  "nbformat": 4,
  "nbformat_minor": 0
}
