{
  "cells": [
    {
      "cell_type": "code",
      "execution_count": null,
      "metadata": {
        "colab": {
          "base_uri": "https://localhost:8080/"
        },
        "id": "8sT7WaomzCxu",
        "outputId": "08ed0f8c-782a-4ec4-d089-3db678dc0f06"
      },
      "outputs": [],
      "source": [
        "import nltk\n",
        "nltk.download('punkt_tab')\n",
        "from nltk.tokenize import word_tokenize, sent_tokenize"
      ]
    },
    {
      "cell_type": "code",
      "execution_count": null,
      "metadata": {
        "id": "HbfmdRu1zrg1"
      },
      "outputs": [],
      "source": [
        "sentence= \"Her Cat name is Luna. Her Dog name is Max\""
      ]
    },
    {
      "cell_type": "code",
      "execution_count": null,
      "metadata": {
        "colab": {
          "base_uri": "https://localhost:8080/"
        },
        "id": "C7lxv7ohz9aF",
        "outputId": "a8d0aa05-ccef-4af4-82b9-1d6254b20476"
      },
      "outputs": [],
      "source": [
        "sent_tokenize(sentence)"
      ]
    },
    {
      "cell_type": "code",
      "execution_count": null,
      "metadata": {
        "colab": {
          "base_uri": "https://localhost:8080/"
        },
        "id": "QC4svg9F0Cfh",
        "outputId": "9fa5e1cd-9fbc-4ab8-e4e0-408e87a5ad1a"
      },
      "outputs": [],
      "source": [
        "sentence= \"Her Cat name is Luna\"\n",
        "word_tokenize(sentence)"
      ]
    },
    {
      "cell_type": "code",
      "execution_count": null,
      "metadata": {
        "colab": {
          "base_uri": "https://localhost:8080/"
        },
        "id": "derTe1h70Wtw",
        "outputId": "bc57e08b-bf73-4bc0-eabe-567d0f6ee66e"
      },
      "outputs": [],
      "source": [
        "sentence2=\"Her Cat name is Luna and her dog name is Max\"\n",
        "word_tokenize(sentence2)"
      ]
    }
  ],
  "metadata": {
    "colab": {
      "provenance": []
    },
    "kernelspec": {
      "display_name": "Python 3",
      "name": "python3"
    },
    "language_info": {
      "name": "python"
    }
  },
  "nbformat": 4,
  "nbformat_minor": 0
}
