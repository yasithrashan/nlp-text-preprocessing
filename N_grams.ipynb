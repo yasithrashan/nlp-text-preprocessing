{
  "cells": [
    {
      "cell_type": "code",
      "execution_count": null,
      "metadata": {
        "id": "ff_E4yYY7mWR"
      },
      "outputs": [],
      "source": [
        "import nltk\n",
        "import pandas as pd\n",
        "import matplotlib.pyplot as plt"
      ]
    },
    {
      "cell_type": "code",
      "execution_count": null,
      "metadata": {
        "id": "W-Ehgg2i7pyI"
      },
      "outputs": [],
      "source": [
        "tokens = [\"this\", \"is\", \"a\", \"simple\", \"sentence\", \"for\", \"ngram\", \"example\", \"this\", \"is\", \"a\", \"test\"]"
      ]
    },
    {
      "cell_type": "code",
      "execution_count": null,
      "metadata": {
        "colab": {
          "base_uri": "https://localhost:8080/"
        },
        "id": "VNPb-wAo8I5k",
        "outputId": "650a1cb9-5761-4e70-bbe9-c2cc650eaf52"
      },
      "outputs": [],
      "source": [
        "unigrams = (pd.Series(nltk.ngrams(tokens, 1)).value_counts())\n",
        "print(unigrams[:10])\n"
      ]
    },
    {
      "cell_type": "code",
      "execution_count": null,
      "metadata": {
        "colab": {
          "base_uri": "https://localhost:8080/",
          "height": 717
        },
        "id": "t4oJD_JY8WBd",
        "outputId": "a1ae400f-7056-4ad6-f76e-b5c51eb1ad78"
      },
      "outputs": [],
      "source": [
        "unigrams[:10].sort_values().plot.barh(color='grey',width=0.9,figsize=(12,8))\n",
        "plt.title('Unigrams Frequency Distribution')\n"
      ]
    }
  ],
  "metadata": {
    "colab": {
      "provenance": []
    },
    "kernelspec": {
      "display_name": "Python 3",
      "name": "python3"
    },
    "language_info": {
      "name": "python"
    }
  },
  "nbformat": 4,
  "nbformat_minor": 0
}
