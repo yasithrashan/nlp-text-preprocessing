{
  "cells": [
    {
      "cell_type": "code",
      "execution_count": null,
      "metadata": {
        "id": "tzVqewiV1Bi2"
      },
      "outputs": [],
      "source": [
        "from nltk.stem import PorterStemmer"
      ]
    },
    {
      "cell_type": "code",
      "execution_count": null,
      "metadata": {
        "id": "eQ9qlDD-1qjn"
      },
      "outputs": [],
      "source": [
        "ps=PorterStemmer()"
      ]
    },
    {
      "cell_type": "code",
      "execution_count": null,
      "metadata": {
        "id": "9_jRpjTt12zt"
      },
      "outputs": [],
      "source": [
        "connect_tokens=['connecting','connected','connectivity','connect','connects']"
      ]
    },
    {
      "cell_type": "code",
      "execution_count": null,
      "metadata": {
        "id": "Gszn-7-x4yIw"
      },
      "outputs": [],
      "source": [
        "like_tokens=['liked','likes']"
      ]
    },
    {
      "cell_type": "code",
      "execution_count": null,
      "metadata": {
        "colab": {
          "base_uri": "https://localhost:8080/"
        },
        "id": "6RMee3bE2H7_",
        "outputId": "7177db03-5405-43f5-c700-7f8c5afd3161"
      },
      "outputs": [],
      "source": [
        "for t in connect_tokens:\n",
        "    print(t,\":\",ps.stem(t))"
      ]
    },
    {
      "cell_type": "markdown",
      "metadata": {
        "id": "9WDV_fZv3ih-"
      },
      "source": [
        "#Lemmatization\n"
      ]
    },
    {
      "cell_type": "code",
      "execution_count": null,
      "metadata": {
        "colab": {
          "base_uri": "https://localhost:8080/"
        },
        "id": "T0K-4x2e2KKL",
        "outputId": "bd7fee5e-3355-416e-d39d-abe54a949cc7"
      },
      "outputs": [],
      "source": [
        "import nltk\n",
        "nltk.download('wordnet')\n",
        "from nltk.stem import WordNetLemmatizer"
      ]
    },
    {
      "cell_type": "code",
      "execution_count": null,
      "metadata": {
        "id": "ZYWjG2p23nc0"
      },
      "outputs": [],
      "source": [
        "lemmatizer=WordNetLemmatizer()"
      ]
    },
    {
      "cell_type": "code",
      "execution_count": null,
      "metadata": {
        "colab": {
          "base_uri": "https://localhost:8080/"
        },
        "id": "Vk5Vm04m4PlV",
        "outputId": "ecbe7878-90c8-4260-f535-edb7a1fdc189"
      },
      "outputs": [],
      "source": [
        "for t in connect_tokens:\n",
        "    print(t,\":\",lemmatizer.lemmatize(t))"
      ]
    },
    {
      "cell_type": "code",
      "execution_count": null,
      "metadata": {
        "colab": {
          "base_uri": "https://localhost:8080/"
        },
        "id": "OCqVmHK_4SiF",
        "outputId": "99914b91-ddfd-4975-eeba-742723fa61b8"
      },
      "outputs": [],
      "source": [
        "for t in like_tokens:\n",
        "    print(t,\":\",lemmatizer.lemmatize(t))"
      ]
    }
  ],
  "metadata": {
    "colab": {
      "provenance": []
    },
    "kernelspec": {
      "display_name": "Python 3",
      "name": "python3"
    },
    "language_info": {
      "name": "python"
    }
  },
  "nbformat": 4,
  "nbformat_minor": 0
}
