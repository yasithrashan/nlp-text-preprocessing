{
  "nbformat": 4,
  "nbformat_minor": 0,
  "metadata": {
    "colab": {
      "provenance": []
    },
    "kernelspec": {
      "name": "python3",
      "display_name": "Python 3"
    },
    "language_info": {
      "name": "python"
    }
  },
  "cells": [
    {
      "cell_type": "code",
      "execution_count": 11,
      "metadata": {
        "id": "tzVqewiV1Bi2"
      },
      "outputs": [],
      "source": [
        "from nltk.stem import PorterStemmer"
      ]
    },
    {
      "cell_type": "code",
      "source": [
        "ps=PorterStemmer()"
      ],
      "metadata": {
        "id": "eQ9qlDD-1qjn"
      },
      "execution_count": 3,
      "outputs": []
    },
    {
      "cell_type": "code",
      "source": [
        "connect_tokens=['connecting','connected','connectivity','connect','connects']"
      ],
      "metadata": {
        "id": "9_jRpjTt12zt"
      },
      "execution_count": 8,
      "outputs": []
    },
    {
      "cell_type": "code",
      "source": [
        "like_tokens=['liked','likes']"
      ],
      "metadata": {
        "id": "Gszn-7-x4yIw"
      },
      "execution_count": 16,
      "outputs": []
    },
    {
      "cell_type": "code",
      "source": [
        "for t in connect_tokens:\n",
        "    print(t,\":\",ps.stem(t))"
      ],
      "metadata": {
        "colab": {
          "base_uri": "https://localhost:8080/"
        },
        "id": "6RMee3bE2H7_",
        "outputId": "7177db03-5405-43f5-c700-7f8c5afd3161"
      },
      "execution_count": 7,
      "outputs": [
        {
          "output_type": "stream",
          "name": "stdout",
          "text": [
            "connecting : connect\n",
            "connected : connect\n",
            "conynectivity : conynect\n",
            "connect : connect\n",
            "connects : connect\n"
          ]
        }
      ]
    },
    {
      "cell_type": "markdown",
      "source": [
        "#Lemmatization\n"
      ],
      "metadata": {
        "id": "9WDV_fZv3ih-"
      }
    },
    {
      "cell_type": "code",
      "source": [
        "import nltk\n",
        "nltk.download('wordnet')\n",
        "from nltk.stem import WordNetLemmatizer"
      ],
      "metadata": {
        "colab": {
          "base_uri": "https://localhost:8080/"
        },
        "id": "T0K-4x2e2KKL",
        "outputId": "bd7fee5e-3355-416e-d39d-abe54a949cc7"
      },
      "execution_count": 13,
      "outputs": [
        {
          "output_type": "stream",
          "name": "stderr",
          "text": [
            "[nltk_data] Downloading package wordnet to /root/nltk_data...\n"
          ]
        }
      ]
    },
    {
      "cell_type": "code",
      "source": [
        "lemmatizer=WordNetLemmatizer()"
      ],
      "metadata": {
        "id": "ZYWjG2p23nc0"
      },
      "execution_count": 14,
      "outputs": []
    },
    {
      "cell_type": "code",
      "source": [
        "for t in connect_tokens:\n",
        "    print(t,\":\",lemmatizer.lemmatize(t))"
      ],
      "metadata": {
        "colab": {
          "base_uri": "https://localhost:8080/"
        },
        "id": "Vk5Vm04m4PlV",
        "outputId": "ecbe7878-90c8-4260-f535-edb7a1fdc189"
      },
      "execution_count": 15,
      "outputs": [
        {
          "output_type": "stream",
          "name": "stdout",
          "text": [
            "connecting : connecting\n",
            "connected : connected\n",
            "connectivity : connectivity\n",
            "connect : connect\n",
            "connects : connects\n"
          ]
        }
      ]
    },
    {
      "cell_type": "code",
      "source": [
        "for t in like_tokens:\n",
        "    print(t,\":\",lemmatizer.lemmatize(t))"
      ],
      "metadata": {
        "colab": {
          "base_uri": "https://localhost:8080/"
        },
        "id": "OCqVmHK_4SiF",
        "outputId": "99914b91-ddfd-4975-eeba-742723fa61b8"
      },
      "execution_count": 17,
      "outputs": [
        {
          "output_type": "stream",
          "name": "stdout",
          "text": [
            "liked : liked\n",
            "likes : like\n"
          ]
        }
      ]
    },
    {
      "cell_type": "code",
      "source": [],
      "metadata": {
        "id": "pLBZG-3-41u4"
      },
      "execution_count": null,
      "outputs": []
    }
  ]
}